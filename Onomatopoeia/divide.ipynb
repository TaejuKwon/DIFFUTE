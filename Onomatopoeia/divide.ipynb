{
 "cells": [
  {
   "cell_type": "code",
   "execution_count": 1,
   "metadata": {},
   "outputs": [
    {
     "name": "stderr",
     "output_type": "stream",
     "text": [
      "/home/taejukwon/anaconda3/envs/textdiffuser/lib/python3.8/site-packages/tqdm/auto.py:21: TqdmWarning: IProgress not found. Please update jupyter and ipywidgets. See https://ipywidgets.readthedocs.io/en/stable/user_install.html\n",
      "  from .autonotebook import tqdm as notebook_tqdm\n"
     ]
    }
   ],
   "source": [
    "from torchvision import transforms as tf\n",
    "from PIL import Image, ImageDraw, ImageFont\n",
    "import numpy as np\n",
    "import cv2\n",
    "\n",
    "import glob, os\n",
    "import easyocr"
   ]
  },
  {
   "cell_type": "code",
   "execution_count": 2,
   "metadata": {},
   "outputs": [],
   "source": []
  },
  {
   "cell_type": "code",
   "execution_count": 3,
   "metadata": {},
   "outputs": [
    {
     "data": {
      "text/plain": [
       "[([[142, 276], [250, 276], [250, 374], [142, 374]], '상곳', 0.23758392525815616),\n",
       " ([[177, 559], [241, 559], [241, 599], [177, 599]], '나와', 0.9974574697231934),\n",
       " ([[114, 594], [296, 594], [296, 642], [114, 642]],\n",
       "  '몇몇 성좌들은',\n",
       "  0.9861611394302052)]"
      ]
     },
     "execution_count": 3,
     "metadata": {},
     "output_type": "execute_result"
    }
   ],
   "source": [
    "result"
   ]
  },
  {
   "cell_type": "code",
   "execution_count": 34,
   "metadata": {},
   "outputs": [
    {
     "data": {
      "text/plain": [
       "[[142, 276], [250, 276], [250, 374], [142, 374]]"
      ]
     },
     "execution_count": 34,
     "metadata": {},
     "output_type": "execute_result"
    }
   ],
   "source": [
    "result[0][0]"
   ]
  },
  {
   "cell_type": "code",
   "execution_count": 35,
   "metadata": {},
   "outputs": [
    {
     "data": {
      "text/plain": [
       "[]"
      ]
     },
     "execution_count": 35,
     "metadata": {},
     "output_type": "execute_result"
    }
   ],
   "source": [
    "list"
   ]
  },
  {
   "cell_type": "code",
   "execution_count": 40,
   "metadata": {},
   "outputs": [
    {
     "data": {
      "text/plain": [
       "([[177, 559], [241, 559], [241, 599], [177, 599]], '나와', 0.9974574697231934)"
      ]
     },
     "execution_count": 40,
     "metadata": {},
     "output_type": "execute_result"
    }
   ],
   "source": [
    "result[1]"
   ]
  },
  {
   "cell_type": "code",
   "execution_count": 4,
   "metadata": {},
   "outputs": [],
   "source": [
    "def get_background_color(input_text):\n",
    "    image = sample_image # need to be changed\n",
    "    # Crop a small region around the text\n",
    "    margin = 5  # pixels\n",
    "    # result # need to get OCR result\n",
    "    for pts, t, p in result:\n",
    "        if input_text == t:\n",
    "            coordinates = pts\n",
    "            break\n",
    "    x_min, y_min = min(coordinates, key=lambda x: x[0])[0] - margin, min(coordinates, key=lambda x: x[1])[1] - margin\n",
    "    x_max, y_max = max(coordinates, key=lambda x: x[0])[0] + margin, max(coordinates, key=lambda x: x[1])[1] + margin\n",
    "    cropped_region = image[y_min:y_max, x_min:x_max]\n",
    "\n",
    "    # Calculate the most common color\n",
    "    avg_color = np.mean(cropped_region, axis=(0, 1))\n",
    "    r_prob = avg_color[0] / 255\n",
    "    g_prob = avg_color[1] / 255\n",
    "    b_prob = avg_color[2] / 255\n",
    "    return r_prob, g_prob, b_prob"
   ]
  },
  {
   "cell_type": "code",
   "execution_count": 133,
   "metadata": {},
   "outputs": [
    {
     "data": {
      "text/plain": [
       "(0.7227127260194725, 0.7322224683972773, 0.7438810112871262)"
      ]
     },
     "execution_count": 133,
     "metadata": {},
     "output_type": "execute_result"
    }
   ],
   "source": [
    "get_background_color(\"상곳\")"
   ]
  },
  {
   "cell_type": "code",
   "execution_count": 24,
   "metadata": {},
   "outputs": [],
   "source": [
    "def get_OCR_prob(input_text, result):\n",
    "    # result = get OCr result\n",
    "    \n",
    "    for pts, text, p in result:\n",
    "        if input_text == text:\n",
    "            output = p\n",
    "    return output"
   ]
  },
  {
   "cell_type": "code",
   "execution_count": 112,
   "metadata": {},
   "outputs": [
    {
     "data": {
      "text/plain": [
       "0.23758392525815616"
      ]
     },
     "execution_count": 112,
     "metadata": {},
     "output_type": "execute_result"
    }
   ],
   "source": [
    "get_OCR_prob(\"상곳\")"
   ]
  },
  {
   "cell_type": "code",
   "execution_count": 6,
   "metadata": {},
   "outputs": [],
   "source": [
    "import pandas as pd\n",
    "from Levenshtein import distance as lev_distance\n",
    "\n",
    "# Assuming decompose_string is a custom function you have defined\n",
    "from Onomato_translation import decompose_string\n",
    "\n",
    "# Load the Korean-English Onomatopoeia CSV file\n",
    "\n",
    "\n",
    "def find_most_similar_word_from_OCR(input_word):\n",
    "    df = pd.read_csv('/mnt/c/Users/USER/LABis/DiffUTE/Onomatopoeia/korean_English_Onomatopoeia.csv')\n",
    "    english_onomatopoeia_list = df['Korean Onomatopoeia'].tolist()\n",
    "    min_distance = float('inf')\n",
    "    max_distance = 0\n",
    "    decomposed_input = decompose_string(input_word)\n",
    "\n",
    "    for word in english_onomatopoeia_list:\n",
    "        decomposed_word = decompose_string(word)\n",
    "        distance = lev_distance(decomposed_input, decomposed_word)\n",
    "        if distance < min_distance:\n",
    "            min_distance = distance\n",
    "            \n",
    "    for word in english_onomatopoeia_list:\n",
    "        decomposed_word = decompose_string(word)\n",
    "        distance = lev_distance(decomposed_input, decomposed_word)\n",
    "        if distance > max_distance:\n",
    "            max_distance = distance\n",
    "\n",
    "    return min_distance/max_distance"
   ]
  },
  {
   "cell_type": "code",
   "execution_count": 113,
   "metadata": {},
   "outputs": [
    {
     "data": {
      "text/plain": [
       "0.11764705882352941"
      ]
     },
     "execution_count": 113,
     "metadata": {},
     "output_type": "execute_result"
    }
   ],
   "source": [
    "find_most_similar_word_from_OCR(\"상곳\")"
   ]
  },
  {
   "cell_type": "code",
   "execution_count": 26,
   "metadata": {},
   "outputs": [],
   "source": [
    "import numpy as np\n",
    "from sklearn.manifold import TSNE\n",
    "import matplotlib.pyplot as plt\n",
    "\n",
    "# Assume you have a function `get_data_for_text` that runs all your functions\n",
    "# and returns a 5-dimensional vector of probabilities for each text.\n",
    "def get_probs_for_text(text, result):\n",
    "    r_prob, g_prob, b_prob = get_background_color(text)\n",
    "    ocr_prob = get_OCR_prob(text, result)\n",
    "    onomatopoeia_prob = find_most_similar_word_from_OCR(text)\n",
    "    return np.array([r_prob, g_prob, b_prob, ocr_prob, onomatopoeia_prob])\n"
   ]
  },
  {
   "cell_type": "code",
   "execution_count": 8,
   "metadata": {},
   "outputs": [
    {
     "data": {
      "text/plain": [
       "[([[142, 276], [250, 276], [250, 374], [142, 374]], '상곳', 0.23758392525815616),\n",
       " ([[177, 559], [241, 559], [241, 599], [177, 599]], '나와', 0.9974574697231934),\n",
       " ([[114, 594], [296, 594], [296, 642], [114, 642]],\n",
       "  '몇몇 성좌들은',\n",
       "  0.9861611394302052)]"
      ]
     },
     "execution_count": 8,
     "metadata": {},
     "output_type": "execute_result"
    }
   ],
   "source": [
    "result"
   ]
  },
  {
   "cell_type": "code",
   "execution_count": 16,
   "metadata": {},
   "outputs": [
    {
     "data": {
      "text/plain": [
       "'몇몇 성좌들은'"
      ]
     },
     "execution_count": 16,
     "metadata": {},
     "output_type": "execute_result"
    }
   ],
   "source": [
    "result[2][1]"
   ]
  },
  {
   "cell_type": "code",
   "execution_count": 22,
   "metadata": {},
   "outputs": [],
   "source": [
    "\n",
    "def get_OCR_result_for_d(init_img):\n",
    "    os.environ['CUDA_VISIBLE_DEVICES'] = '0,'\n",
    "    reader = easyocr.Reader(['ko', 'en'])\n",
    "    result = reader.readtext(np.array(init_img)) # PIL to cv2 (but RGB is not changed)\n",
    "    \n",
    "    return result"
   ]
  },
  {
   "cell_type": "code",
   "execution_count": 20,
   "metadata": {},
   "outputs": [
    {
     "name": "stdout",
     "output_type": "stream",
     "text": [
      "상곳\n",
      "나와\n",
      "몇몇 성좌들은\n"
     ]
    }
   ],
   "source": [
    "list = []\n",
    "\n",
    "for i in range(len(result)):\n",
    "    list.append(result[i][1])\n",
    "    print(result[i][1])"
   ]
  },
  {
   "cell_type": "code",
   "execution_count": 21,
   "metadata": {},
   "outputs": [
    {
     "data": {
      "text/plain": [
       "['상곳', '나와', '몇몇 성좌들은']"
      ]
     },
     "execution_count": 21,
     "metadata": {},
     "output_type": "execute_result"
    }
   ],
   "source": [
    "list"
   ]
  },
  {
   "cell_type": "code",
   "execution_count": 31,
   "metadata": {},
   "outputs": [],
   "source": [
    "def concated_prob_from_image(image):\n",
    "    result = get_OCR_result(image)\n",
    "    \n",
    "    list_t = []\n",
    "    for i in range(len(result)):\n",
    "        list_t.append(result[i][1])\n",
    "    output = []\n",
    "    for t in list_t:\n",
    "        output.append(np.mean(get_probs_for_text(t, result)))\n",
    "        \n",
    "    return list_t, output"
   ]
  },
  {
   "cell_type": "code",
   "execution_count": 32,
   "metadata": {},
   "outputs": [
    {
     "data": {
      "text/plain": [
       "(['상곳', '나와', '몇몇 성좌들은'],\n",
       " [0.5108094379571123, 0.7495466608762762, 0.8416062418594465])"
      ]
     },
     "execution_count": 32,
     "metadata": {},
     "output_type": "execute_result"
    }
   ],
   "source": [
    "concated_prob_from_image(sample_image)"
   ]
  },
  {
   "cell_type": "code",
   "execution_count": null,
   "metadata": {},
   "outputs": [],
   "source": []
  }
 ],
 "metadata": {
  "kernelspec": {
   "display_name": "textdiffuser",
   "language": "python",
   "name": "python3"
  },
  "language_info": {
   "codemirror_mode": {
    "name": "ipython",
    "version": 3
   },
   "file_extension": ".py",
   "mimetype": "text/x-python",
   "name": "python",
   "nbconvert_exporter": "python",
   "pygments_lexer": "ipython3",
   "version": "3.8.18"
  }
 },
 "nbformat": 4,
 "nbformat_minor": 2
}
