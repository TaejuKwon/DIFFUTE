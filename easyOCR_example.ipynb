{
 "cells": [
  {
   "cell_type": "code",
   "execution_count": 1,
   "metadata": {},
   "outputs": [
    {
     "name": "stderr",
     "output_type": "stream",
     "text": [
      "/home/taejukwon/anaconda3/envs/textdiffuser/lib/python3.8/site-packages/tqdm/auto.py:21: TqdmWarning: IProgress not found. Please update jupyter and ipywidgets. See https://ipywidgets.readthedocs.io/en/stable/user_install.html\n",
      "  from .autonotebook import tqdm as notebook_tqdm\n"
     ]
    }
   ],
   "source": [
    "from torchvision import transforms as tf\n",
    "from PIL import Image, ImageDraw, ImageFont\n",
    "import numpy as np\n",
    "import cv2\n",
    "\n",
    "import glob, os"
   ]
  },
  {
   "cell_type": "code",
   "execution_count": 2,
   "metadata": {},
   "outputs": [],
   "source": [
    "vid_dir = './china'\n",
    "vid_pth = os.path.join(vid_dir, 'sample.mp4')\n",
    "img_pth = os.path.join(vid_dir, 'frames')\n",
    "\n",
    "cap = cv2.VideoCapture(vid_pth)\n",
    "\n",
    "n = 0\n",
    "\n",
    "while True :\n",
    "    ret, frame = cap.read()\n",
    "    if not ret : \n",
    "        break\n",
    "\n",
    "    image = Image.fromarray(cv2.cvtColor(frame, cv2.COLOR_BGR2RGB))\n",
    "    image = tf.CenterCrop(1500)(image).resize((512, 512))\n",
    "    image.save(os.path.join(img_pth, 'frame_%04d.png' % n))\n",
    "    n += 1 "
   ]
  },
  {
   "cell_type": "code",
   "execution_count": 3,
   "metadata": {},
   "outputs": [],
   "source": [
    "import easyocr\n",
    "\n",
    "os.environ['CUDA_VISIBLE_DEVICES'] = '0,'\n",
    "\n",
    "reader = easyocr.Reader(['ko', 'en'])\n",
    "sample_image = cv2.imread('/mnt/c/Users/USER/LABis/DiffUTE/figure/스윽_rotated.png')\n",
    "result = reader.readtext(sample_image)"
   ]
  },
  {
   "cell_type": "code",
   "execution_count": 4,
   "metadata": {},
   "outputs": [
    {
     "data": {
      "text/plain": [
       "[([[97, 78], [327, 78], [327, 183], [97, 183]], '스올', 0.9961025353852008)]"
      ]
     },
     "execution_count": 4,
     "metadata": {},
     "output_type": "execute_result"
    }
   ],
   "source": [
    "result"
   ]
  },
  {
   "cell_type": "code",
   "execution_count": 5,
   "metadata": {},
   "outputs": [],
   "source": [
    "list = []\n",
    "for pts, text, p in result:\n",
    "    list.append(text)"
   ]
  },
  {
   "cell_type": "code",
   "execution_count": 6,
   "metadata": {},
   "outputs": [
    {
     "data": {
      "text/plain": [
       "['스올']"
      ]
     },
     "execution_count": 6,
     "metadata": {},
     "output_type": "execute_result"
    }
   ],
   "source": [
    "list"
   ]
  },
  {
   "cell_type": "code",
   "execution_count": 7,
   "metadata": {},
   "outputs": [
    {
     "data": {
      "image/png": "[encoded data removed]",
      "text/plain": [
       "<PIL.Image.Image image mode=RGB size=512x512>"
      ]
     },
     "execution_count": 7,
     "metadata": {},
     "output_type": "execute_result"
    }
   ],
   "source": [
    "for pts, text, p in result :\n",
    "    if text == '스올' :\n",
    "        cv2.fillConvexPoly(sample_image, np.array(pts, dtype=np.int32), (255, 255, 255))\n",
    "\n",
    "Image.fromarray(cv2.cvtColor(sample_image, cv2.COLOR_BGR2RGB)).resize((512, 512))"
   ]
  },
  {
   "cell_type": "code",
   "execution_count": 8,
   "metadata": {},
   "outputs": [
    {
     "data": {
      "image/png": "[encoded data removed]",
      "text/plain": [
       "<PIL.Image.Image image mode=RGB size=512x512>"
      ]
     },
     "execution_count": 8,
     "metadata": {},
     "output_type": "execute_result"
    }
   ],
   "source": [
    "for pts, text, p in result :\n",
    "    if text == '스올' :\n",
    "        mask = np.zeros_like(sample_image)\n",
    "        cv2.fillConvexPoly(mask, np.array(pts, dtype=np.int32), (255, 255, 255))\n",
    "\n",
    "Image.fromarray(cv2.cvtColor(mask, cv2.COLOR_BGR2RGB)).resize((512, 512))"
   ]
  },
  {
   "cell_type": "code",
   "execution_count": null,
   "metadata": {},
   "outputs": [],
   "source": []
  }
 ],
 "metadata": {
  "kernelspec": {
   "display_name": "textdiffuser",
   "language": "python",
   "name": "python3"
  },
  "language_info": {
   "codemirror_mode": {
    "name": "ipython",
    "version": 3
   },
   "file_extension": ".py",
   "mimetype": "text/x-python",
   "name": "python",
   "nbconvert_exporter": "python",
   "pygments_lexer": "ipython3",
   "version": "3.8.18"
  }
 },
 "nbformat": 4,
 "nbformat_minor": 2
}
